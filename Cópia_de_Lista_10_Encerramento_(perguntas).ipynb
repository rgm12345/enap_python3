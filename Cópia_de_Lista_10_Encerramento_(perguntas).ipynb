{
  "nbformat": 4,
  "nbformat_minor": 0,
  "metadata": {
    "colab": {
      "provenance": [],
      "include_colab_link": true
    },
    "kernelspec": {
      "name": "python3",
      "display_name": "Python 3"
    },
    "language_info": {
      "name": "python"
    }
  },
  "cells": [
    {
      "cell_type": "markdown",
      "metadata": {
        "id": "view-in-github",
        "colab_type": "text"
      },
      "source": [
        "<a href=\"https://colab.research.google.com/github/rgm12345/enap_python3/blob/main/C%C3%B3pia_de_Lista_10_Encerramento_(perguntas).ipynb\" target=\"_parent\"><img src=\"https://colab.research.google.com/assets/colab-badge.svg\" alt=\"Open In Colab\"/></a>"
      ]
    },
    {
      "cell_type": "markdown",
      "source": [
        "*Objetivo*: Praticar o uso de dashboards usando o Streamlit e o GitHub."
      ],
      "metadata": {
        "id": "fdKBpVbaAAwW"
      }
    },
    {
      "cell_type": "markdown",
      "source": [
        "#Questão 1"
      ],
      "metadata": {
        "id": "ECYxYU86AGuT"
      }
    },
    {
      "cell_type": "markdown",
      "source": [
        "**Tema: A distribuição de gênero na Câmara dos Deputados**\n",
        "\n",
        "O Ministério da Fazenda, em sua iniciativa de promover a inclusão feminina, solicitou um estudo para entender melhor a representatividade de gênero na Câmara dos Deputados. O objetivo inicial é coletar e divulgar dados sobre a distribuição de deputados (homens e mulheres) por estado. Com esses dados, você deverá desenvolver um dashboard público que apresente essas informações de forma acessível à população.\n",
        "O dashboard deverá ser atualizado automaticamente a cada eleição, refletindo as mudanças na composição de gênero da Câmara dos Deputados.\n",
        "\n",
        "\n",
        "Usando a API da câmara dos deputados disponível no link https://dadosabertos.camara.leg.br/swagger/api.html, selecione um dos URL endpoints pra criar um dashboard no streamlit que mostre o gráfico de barras no número de homens e mulheres deputados por estado. Além disso, o programa deve mostrar o total de deputados, além da porcentagem de homens e mulheres.\n",
        "\n",
        "Dicas: Procure uma API que retorne os dados dos deputados por sexo. A seguir, recupere os dados dos deputados e deputadas e insira em dois dataframes diferentes. Na sequência, use o comando concat para unir os dois dataframes.\n",
        "\n",
        "*Sugestões (e não obrigação) de passos a serem seguidos:*\n",
        "1. Instale o streamlit;\n",
        "2. Importe os módulos requests, pandas e streamlit.\n",
        "3. A partir dos dados abertos da camara dos deputados (https://dadosabertos.camara.leg.br/swagger/api.html) defina a URL da API com informações sobre os deputados, incluindo a informação sobre o gênero. DICA: Use a opção de deputados.\n",
        "4. Faça a importação dos dados de deputadas mulheres (dfmulheres) e dos deputados homens (dfhomens) e faça a concatenação dos dataframes usando o comando concat.\n",
        "5. Crie um dashboard no streamlit com essas informações e insira um selectbox que realize filtragem por gênero.\n",
        "6. Crie um gráfico de barras com o número de homens e mulheres deputados por estado, a depender do sexo selecionado. Se necessário, peça ajuda ao chat GPT sobre como calcular a quantidade de deputados por estado.\n",
        "7. Acrescente informações sobre o total de deputados, além do total de homens e mulheres."
      ],
      "metadata": {
        "id": "qSbggQ5qAI6j"
      }
    },
    {
      "cell_type": "code",
      "execution_count": null,
      "metadata": {
        "id": "d8RDtsUy_3Nd"
      },
      "outputs": [],
      "source": []
    },
    {
      "cell_type": "markdown",
      "source": [
        "#Questão 2 (para fazer em casa!)"
      ],
      "metadata": {
        "id": "wDqxqgo-ALbL"
      }
    },
    {
      "cell_type": "markdown",
      "source": [
        "Ainda usando a API da câmara dos deputados, procure por um id de um deputado da questão anterior, por exemplo 74646 que corresponde ao deputado Aécio Neves, e calcule as despesas do deputado. A seguir, use o comando metrics para inserir esta despesa em seu dashboard. Dica: Procure por uma API que tenha dados de despesas dos deputados.\n",
        "\n",
        "*Sugestões (e não obrigação) de passos a serem seguidos:*\n",
        "1. Importe os módulos requests, pandas e streamlit.\n",
        "2. Copie o link da API usado na questão anterior e cole no navegador de sua preferência. A seguir, examine os dados mostrados e busque pelo ID de um deputado de sua preferência.\n",
        "3. Carregue os dados em um dataframe.\n",
        "4. Faça o cálculos dos dados usando uma das colunas disponíveis na busca.\n",
        "5. Usando a a função metrics do módulo Streamlit, informe os gastos do deputado escolhido."
      ],
      "metadata": {
        "id": "8ef-lNA3ANEL"
      }
    },
    {
      "cell_type": "code",
      "source": [],
      "metadata": {
        "id": "31jArc1SATvr"
      },
      "execution_count": null,
      "outputs": []
    }
  ]
}